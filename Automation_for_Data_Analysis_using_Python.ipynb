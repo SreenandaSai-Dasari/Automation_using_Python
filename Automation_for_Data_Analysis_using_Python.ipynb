{
 "cells": [
  {
   "cell_type": "markdown",
   "id": "7302ac30-e439-41b1-888c-a3c5f2a648c6",
   "metadata": {},
   "source": [
    "# Inputs:"
   ]
  },
  {
   "cell_type": "code",
   "execution_count": 1,
   "id": "d55cce26-4e70-4741-a586-22e34f429b8e",
   "metadata": {},
   "outputs": [],
   "source": [
    "database_name='sakila'\n",
    "\n",
    "table_name1='actor'\n",
    "\n",
    "table_name2='film'\n",
    "\n",
    "table_name3='rental'\n",
    "\n",
    "file='sample.xlsx'"
   ]
  },
  {
   "cell_type": "markdown",
   "id": "b06d9842-5d6c-4cbb-88a5-3396164a8c83",
   "metadata": {},
   "source": [
    "## Importing packages:"
   ]
  },
  {
   "cell_type": "code",
   "execution_count": 2,
   "id": "8c6dc90d-350d-433b-891c-998228ec2a20",
   "metadata": {},
   "outputs": [],
   "source": [
    "import datetime\n",
    "starttime=datetime.datetime.now()\n",
    "\n",
    "import os\n",
    "import numpy as np\n",
    "import pandas as pd\n",
    "import matplotlib.pyplot as plt"
   ]
  },
  {
   "cell_type": "code",
   "execution_count": 3,
   "id": "771c427b-8ce8-4ba6-9cb1-806bd9b09a8d",
   "metadata": {},
   "outputs": [],
   "source": [
    "%%capture\n",
    "!pip install openpyxl"
   ]
  },
  {
   "cell_type": "code",
   "execution_count": 4,
   "id": "456f6672-2641-4fe0-8c0e-651c9e98ca8c",
   "metadata": {},
   "outputs": [],
   "source": [
    "import openpyxl\n",
    "from openpyxl import Workbook\n",
    "from openpyxl import load_workbook\n",
    "from openpyxl.styles import Color\n",
    "from openpyxl.styles import numbers\n",
    "from openpyxl.styles import PatternFill\n",
    "from openpyxl.styles import Font,Border,Side\n",
    "from openpyxl.utils import get_column_letter"
   ]
  },
  {
   "cell_type": "markdown",
   "id": "c6b364c6-0920-4cec-819d-8d9b166c2636",
   "metadata": {},
   "source": [
    "## Custom Functions:"
   ]
  },
  {
   "cell_type": "code",
   "execution_count": 5,
   "id": "8da28f46-4f76-4476-b2cf-4c39c791dda6",
   "metadata": {},
   "outputs": [],
   "source": [
    "def format_writing(file,sheet_name,color,col_list,start_color,title):\n",
    "    \n",
    "    wb=openpyxl.load_workbook(file)\n",
    "    ws=wb[sheet_name]\n",
    "    dim=ws.dimensions\n",
    "    \n",
    "    ws.sheet_view.showGridLines= False\n",
    "    \n",
    "    ws.sheet_view.zoomScale=75\n",
    "    \n",
    "    ws.sheet_properties.tabColor=color\n",
    "    \n",
    "    reg=Side(border_style=\"medium\",color='000000')\n",
    "    box=Border(top=reg,bottom=reg,left=reg,right=reg)\n",
    "    \n",
    "    for c in ws[dim][:]:\n",
    "        for p in c:\n",
    "            if p.value!=None:\n",
    "                p.border=box\n",
    "                \n",
    "    for c in ws[dim][:]:\n",
    "        for p in c:\n",
    "            if p.data_type=='n' and p.value!=0.0:\n",
    "                if '.' in str(p.value):\n",
    "                    p.number_format=numbers.BUILTIN_FORMATS[4]\n",
    "                else:\n",
    "                    p.number_format=numbers.BUILTIN_FORMATS[3]\n",
    "    \n",
    "            if p.data_type=='s' and '%' in p.value:\n",
    "                try:\n",
    "                    p.value=float(p.value.replace('%',''))/100\n",
    "                    p.number_format=numbers.BUILTIN_FORMATS[10]\n",
    "                except ValueError:\n",
    "                    p.data_type='s'\n",
    "                    \n",
    "            elif p.data_type=='s' and '/' in p.value and p.value.replace('/','').isnumeric():\n",
    "                    p.number_format=numbers.BUILTIN_FORMATS[14]\n",
    "                \n",
    "                    \n",
    "    for c in ws.columns:\n",
    "        length=max(len(str(cell.value)) for cell in c)\n",
    "        col=(get_column_letter(c[0].column))\n",
    "        if length*1.25 >=50:\n",
    "            ws.column_dimensions[col].width=50\n",
    "        elif length*1.25<10:\n",
    "            ws.column_dimensions[col].width=15\n",
    "        else:\n",
    "            ws.column_dimensions[col].width=length*1.25\n",
    "            \n",
    "\n",
    "    for i in col_list:\n",
    "        for c in ws[dim][i[0]:i[1]]:\n",
    "            for p in c:\n",
    "                if p.value!=None:\n",
    "                    p.fill=PatternFill('solid',start_color=start_color)\n",
    "                    p.font=Font(bold=True)\n",
    "                    \n",
    "                    \n",
    "    ws['A1'].value=title\n",
    "    ws['A1'].font=Font(bold=True,size=11,color='FF0000')\n",
    "    \n",
    "    #if 'Notes' in wb.sheetnames:\n",
    "    #    del wb['Notes']\n",
    "                    \n",
    "    wb.save(file)"
   ]
  },
  {
   "cell_type": "markdown",
   "id": "06d29960-b938-4c42-8ad3-9174e1cd418c",
   "metadata": {},
   "source": [
    "## Install MY SQL connector"
   ]
  },
  {
   "cell_type": "code",
   "execution_count": 6,
   "id": "952f6a5f-ce5a-40cc-a63d-e9c5eae9bcc5",
   "metadata": {},
   "outputs": [],
   "source": [
    "%%capture\n",
    "!pip install mysql-connector-python"
   ]
  },
  {
   "cell_type": "code",
   "execution_count": 7,
   "id": "8aca871b-0a46-42d6-b3dd-ab943ce242b7",
   "metadata": {},
   "outputs": [],
   "source": [
    "import mysql.connector"
   ]
  },
  {
   "cell_type": "code",
   "execution_count": 8,
   "id": "cd74d6f7-e155-4230-9b61-619c5fbca449",
   "metadata": {},
   "outputs": [],
   "source": [
    "mydb = mysql.connector.connect(host=\"localhost\",user=\"root\",password=\"1234\")"
   ]
  },
  {
   "cell_type": "code",
   "execution_count": 9,
   "id": "b0f20c52-04ba-4603-a4a8-fde190ab6bd0",
   "metadata": {},
   "outputs": [
    {
     "name": "stdout",
     "output_type": "stream",
     "text": [
      "<mysql.connector.connection_cext.CMySQLConnection object at 0x0000021B0C991C40>\n"
     ]
    }
   ],
   "source": [
    "print(mydb)"
   ]
  },
  {
   "cell_type": "markdown",
   "id": "fa7d69a6-ed91-4864-9060-0ccfba857a47",
   "metadata": {},
   "source": [
    "## Running Queries:"
   ]
  },
  {
   "cell_type": "code",
   "execution_count": 10,
   "id": "abd9067d-63bd-4345-9dcb-1bda766720c2",
   "metadata": {},
   "outputs": [],
   "source": [
    "cursor = mydb.cursor()"
   ]
  },
  {
   "cell_type": "code",
   "execution_count": 11,
   "id": "562ce6ab-6e01-45f6-9cc7-9ed3d3eeb051",
   "metadata": {},
   "outputs": [],
   "source": [
    "# Define your query\n",
    "query = \"SELECT * FROM {a}.{b};\".format(a=database_name,b=table_name1)"
   ]
  },
  {
   "cell_type": "code",
   "execution_count": 12,
   "id": "3d1f6b3a-a718-4eb9-ab21-c3984d88d567",
   "metadata": {},
   "outputs": [
    {
     "name": "stdout",
     "output_type": "stream",
     "text": [
      "SELECT * FROM sakila.actor;\n"
     ]
    }
   ],
   "source": [
    "print(query)"
   ]
  },
  {
   "cell_type": "code",
   "execution_count": 13,
   "id": "146e083c-71ad-4509-8a06-e7c9303d75cc",
   "metadata": {},
   "outputs": [],
   "source": [
    "cursor.execute(query)"
   ]
  },
  {
   "cell_type": "code",
   "execution_count": 14,
   "id": "1d62d3fd-9d3e-4fae-84b7-ce39db380f1a",
   "metadata": {},
   "outputs": [],
   "source": [
    "res=cursor.fetchall()"
   ]
  },
  {
   "cell_type": "code",
   "execution_count": 15,
   "id": "182db8ea-8c31-403e-8441-623db04b63aa",
   "metadata": {},
   "outputs": [],
   "source": [
    "df=pd.DataFrame(res,columns=[i[0] for i in cursor.description])"
   ]
  },
  {
   "cell_type": "code",
   "execution_count": 16,
   "id": "c28dd4b2-90bb-4152-aec2-d0fd4b827282",
   "metadata": {},
   "outputs": [
    {
     "data": {
      "text/html": [
       "<div>\n",
       "<style scoped>\n",
       "    .dataframe tbody tr th:only-of-type {\n",
       "        vertical-align: middle;\n",
       "    }\n",
       "\n",
       "    .dataframe tbody tr th {\n",
       "        vertical-align: top;\n",
       "    }\n",
       "\n",
       "    .dataframe thead th {\n",
       "        text-align: right;\n",
       "    }\n",
       "</style>\n",
       "<table border=\"1\" class=\"dataframe\">\n",
       "  <thead>\n",
       "    <tr style=\"text-align: right;\">\n",
       "      <th></th>\n",
       "      <th>actor_id</th>\n",
       "      <th>first_name</th>\n",
       "      <th>last_name</th>\n",
       "      <th>last_update</th>\n",
       "    </tr>\n",
       "  </thead>\n",
       "  <tbody>\n",
       "    <tr>\n",
       "      <th>0</th>\n",
       "      <td>1</td>\n",
       "      <td>PENELOPE</td>\n",
       "      <td>GUINESS</td>\n",
       "      <td>2006-02-15 04:34:33</td>\n",
       "    </tr>\n",
       "    <tr>\n",
       "      <th>1</th>\n",
       "      <td>2</td>\n",
       "      <td>NICK</td>\n",
       "      <td>WAHLBERG</td>\n",
       "      <td>2006-02-15 04:34:33</td>\n",
       "    </tr>\n",
       "    <tr>\n",
       "      <th>2</th>\n",
       "      <td>3</td>\n",
       "      <td>ED</td>\n",
       "      <td>CHASE</td>\n",
       "      <td>2006-02-15 04:34:33</td>\n",
       "    </tr>\n",
       "    <tr>\n",
       "      <th>3</th>\n",
       "      <td>4</td>\n",
       "      <td>JENNIFER</td>\n",
       "      <td>DAVIS</td>\n",
       "      <td>2006-02-15 04:34:33</td>\n",
       "    </tr>\n",
       "    <tr>\n",
       "      <th>4</th>\n",
       "      <td>5</td>\n",
       "      <td>JOHNNY</td>\n",
       "      <td>LOLLOBRIGIDA</td>\n",
       "      <td>2006-02-15 04:34:33</td>\n",
       "    </tr>\n",
       "    <tr>\n",
       "      <th>...</th>\n",
       "      <td>...</td>\n",
       "      <td>...</td>\n",
       "      <td>...</td>\n",
       "      <td>...</td>\n",
       "    </tr>\n",
       "    <tr>\n",
       "      <th>195</th>\n",
       "      <td>196</td>\n",
       "      <td>BELA</td>\n",
       "      <td>WALKEN</td>\n",
       "      <td>2006-02-15 04:34:33</td>\n",
       "    </tr>\n",
       "    <tr>\n",
       "      <th>196</th>\n",
       "      <td>197</td>\n",
       "      <td>REESE</td>\n",
       "      <td>WEST</td>\n",
       "      <td>2006-02-15 04:34:33</td>\n",
       "    </tr>\n",
       "    <tr>\n",
       "      <th>197</th>\n",
       "      <td>198</td>\n",
       "      <td>MARY</td>\n",
       "      <td>KEITEL</td>\n",
       "      <td>2006-02-15 04:34:33</td>\n",
       "    </tr>\n",
       "    <tr>\n",
       "      <th>198</th>\n",
       "      <td>199</td>\n",
       "      <td>JULIA</td>\n",
       "      <td>FAWCETT</td>\n",
       "      <td>2006-02-15 04:34:33</td>\n",
       "    </tr>\n",
       "    <tr>\n",
       "      <th>199</th>\n",
       "      <td>200</td>\n",
       "      <td>THORA</td>\n",
       "      <td>TEMPLE</td>\n",
       "      <td>2006-02-15 04:34:33</td>\n",
       "    </tr>\n",
       "  </tbody>\n",
       "</table>\n",
       "<p>200 rows × 4 columns</p>\n",
       "</div>"
      ],
      "text/plain": [
       "     actor_id first_name     last_name         last_update\n",
       "0           1   PENELOPE       GUINESS 2006-02-15 04:34:33\n",
       "1           2       NICK      WAHLBERG 2006-02-15 04:34:33\n",
       "2           3         ED         CHASE 2006-02-15 04:34:33\n",
       "3           4   JENNIFER         DAVIS 2006-02-15 04:34:33\n",
       "4           5     JOHNNY  LOLLOBRIGIDA 2006-02-15 04:34:33\n",
       "..        ...        ...           ...                 ...\n",
       "195       196       BELA        WALKEN 2006-02-15 04:34:33\n",
       "196       197      REESE          WEST 2006-02-15 04:34:33\n",
       "197       198       MARY        KEITEL 2006-02-15 04:34:33\n",
       "198       199      JULIA       FAWCETT 2006-02-15 04:34:33\n",
       "199       200      THORA        TEMPLE 2006-02-15 04:34:33\n",
       "\n",
       "[200 rows x 4 columns]"
      ]
     },
     "execution_count": 16,
     "metadata": {},
     "output_type": "execute_result"
    }
   ],
   "source": [
    "df"
   ]
  },
  {
   "cell_type": "code",
   "execution_count": 17,
   "id": "5051f46b-6040-4cba-b841-15d71e101ab2",
   "metadata": {},
   "outputs": [],
   "source": [
    "df['last_update']=pd.to_datetime(df['last_update']).dt.strftime(\"%m/%d/%Y\")"
   ]
  },
  {
   "cell_type": "code",
   "execution_count": 18,
   "id": "10b3c179-eda5-4a2e-9792-07272753dcef",
   "metadata": {},
   "outputs": [],
   "source": [
    "# Define your query\n",
    "query2 = \"SELECT * FROM {a}.{b};\".format(a=database_name,b=table_name2)"
   ]
  },
  {
   "cell_type": "code",
   "execution_count": 19,
   "id": "b5742d2f-27ab-4c48-8c27-674834029b0b",
   "metadata": {},
   "outputs": [
    {
     "name": "stdout",
     "output_type": "stream",
     "text": [
      "SELECT * FROM sakila.film;\n"
     ]
    }
   ],
   "source": [
    "print(query2)"
   ]
  },
  {
   "cell_type": "code",
   "execution_count": 20,
   "id": "c77e7d3c-df7a-4dd3-baf2-30803cd32627",
   "metadata": {},
   "outputs": [],
   "source": [
    "cursor.execute(query2)"
   ]
  },
  {
   "cell_type": "code",
   "execution_count": 21,
   "id": "785539c3-4603-4f82-8fed-9181e8b79e8a",
   "metadata": {},
   "outputs": [],
   "source": [
    "res=cursor.fetchall()"
   ]
  },
  {
   "cell_type": "code",
   "execution_count": 22,
   "id": "2eaa8a70-82da-4cbf-bb68-39e86c9f9dd8",
   "metadata": {},
   "outputs": [],
   "source": [
    "df2=pd.DataFrame(res,columns=[i[0] for i in cursor.description])"
   ]
  },
  {
   "cell_type": "code",
   "execution_count": 23,
   "id": "261ea265-9791-4087-8d39-5b397c7ad2fd",
   "metadata": {},
   "outputs": [
    {
     "data": {
      "text/html": [
       "<div>\n",
       "<style scoped>\n",
       "    .dataframe tbody tr th:only-of-type {\n",
       "        vertical-align: middle;\n",
       "    }\n",
       "\n",
       "    .dataframe tbody tr th {\n",
       "        vertical-align: top;\n",
       "    }\n",
       "\n",
       "    .dataframe thead th {\n",
       "        text-align: right;\n",
       "    }\n",
       "</style>\n",
       "<table border=\"1\" class=\"dataframe\">\n",
       "  <thead>\n",
       "    <tr style=\"text-align: right;\">\n",
       "      <th></th>\n",
       "      <th>film_id</th>\n",
       "      <th>title</th>\n",
       "      <th>description</th>\n",
       "      <th>release_year</th>\n",
       "      <th>language_id</th>\n",
       "      <th>original_language_id</th>\n",
       "      <th>rental_duration</th>\n",
       "      <th>rental_rate</th>\n",
       "      <th>length</th>\n",
       "      <th>replacement_cost</th>\n",
       "      <th>rating</th>\n",
       "      <th>special_features</th>\n",
       "      <th>last_update</th>\n",
       "    </tr>\n",
       "  </thead>\n",
       "  <tbody>\n",
       "    <tr>\n",
       "      <th>0</th>\n",
       "      <td>1</td>\n",
       "      <td>ACADEMY DINOSAUR</td>\n",
       "      <td>A Epic Drama of a Feminist And a Mad Scientist...</td>\n",
       "      <td>2006</td>\n",
       "      <td>1</td>\n",
       "      <td>None</td>\n",
       "      <td>6</td>\n",
       "      <td>0.99</td>\n",
       "      <td>86</td>\n",
       "      <td>20.99</td>\n",
       "      <td>PG</td>\n",
       "      <td>{Deleted Scenes, Behind the Scenes}</td>\n",
       "      <td>2006-02-15 05:03:42</td>\n",
       "    </tr>\n",
       "    <tr>\n",
       "      <th>1</th>\n",
       "      <td>2</td>\n",
       "      <td>ACE GOLDFINGER</td>\n",
       "      <td>A Astounding Epistle of a Database Administrat...</td>\n",
       "      <td>2006</td>\n",
       "      <td>1</td>\n",
       "      <td>None</td>\n",
       "      <td>3</td>\n",
       "      <td>4.99</td>\n",
       "      <td>48</td>\n",
       "      <td>12.99</td>\n",
       "      <td>G</td>\n",
       "      <td>{Deleted Scenes, Trailers}</td>\n",
       "      <td>2006-02-15 05:03:42</td>\n",
       "    </tr>\n",
       "    <tr>\n",
       "      <th>2</th>\n",
       "      <td>3</td>\n",
       "      <td>ADAPTATION HOLES</td>\n",
       "      <td>A Astounding Reflection of a Lumberjack And a ...</td>\n",
       "      <td>2006</td>\n",
       "      <td>1</td>\n",
       "      <td>None</td>\n",
       "      <td>7</td>\n",
       "      <td>2.99</td>\n",
       "      <td>50</td>\n",
       "      <td>18.99</td>\n",
       "      <td>NC-17</td>\n",
       "      <td>{Deleted Scenes, Trailers}</td>\n",
       "      <td>2006-02-15 05:03:42</td>\n",
       "    </tr>\n",
       "    <tr>\n",
       "      <th>3</th>\n",
       "      <td>4</td>\n",
       "      <td>AFFAIR PREJUDICE</td>\n",
       "      <td>A Fanciful Documentary of a Frisbee And a Lumb...</td>\n",
       "      <td>2006</td>\n",
       "      <td>1</td>\n",
       "      <td>None</td>\n",
       "      <td>5</td>\n",
       "      <td>2.99</td>\n",
       "      <td>117</td>\n",
       "      <td>26.99</td>\n",
       "      <td>G</td>\n",
       "      <td>{Behind the Scenes, Commentaries}</td>\n",
       "      <td>2006-02-15 05:03:42</td>\n",
       "    </tr>\n",
       "    <tr>\n",
       "      <th>4</th>\n",
       "      <td>5</td>\n",
       "      <td>AFRICAN EGG</td>\n",
       "      <td>A Fast-Paced Documentary of a Pastry Chef And ...</td>\n",
       "      <td>2006</td>\n",
       "      <td>1</td>\n",
       "      <td>None</td>\n",
       "      <td>6</td>\n",
       "      <td>2.99</td>\n",
       "      <td>130</td>\n",
       "      <td>22.99</td>\n",
       "      <td>G</td>\n",
       "      <td>{Deleted Scenes}</td>\n",
       "      <td>2006-02-15 05:03:42</td>\n",
       "    </tr>\n",
       "  </tbody>\n",
       "</table>\n",
       "</div>"
      ],
      "text/plain": [
       "   film_id             title  \\\n",
       "0        1  ACADEMY DINOSAUR   \n",
       "1        2    ACE GOLDFINGER   \n",
       "2        3  ADAPTATION HOLES   \n",
       "3        4  AFFAIR PREJUDICE   \n",
       "4        5       AFRICAN EGG   \n",
       "\n",
       "                                         description  release_year  \\\n",
       "0  A Epic Drama of a Feminist And a Mad Scientist...          2006   \n",
       "1  A Astounding Epistle of a Database Administrat...          2006   \n",
       "2  A Astounding Reflection of a Lumberjack And a ...          2006   \n",
       "3  A Fanciful Documentary of a Frisbee And a Lumb...          2006   \n",
       "4  A Fast-Paced Documentary of a Pastry Chef And ...          2006   \n",
       "\n",
       "   language_id original_language_id  rental_duration rental_rate  length  \\\n",
       "0            1                 None                6        0.99      86   \n",
       "1            1                 None                3        4.99      48   \n",
       "2            1                 None                7        2.99      50   \n",
       "3            1                 None                5        2.99     117   \n",
       "4            1                 None                6        2.99     130   \n",
       "\n",
       "  replacement_cost rating                     special_features  \\\n",
       "0            20.99     PG  {Deleted Scenes, Behind the Scenes}   \n",
       "1            12.99      G           {Deleted Scenes, Trailers}   \n",
       "2            18.99  NC-17           {Deleted Scenes, Trailers}   \n",
       "3            26.99      G    {Behind the Scenes, Commentaries}   \n",
       "4            22.99      G                     {Deleted Scenes}   \n",
       "\n",
       "          last_update  \n",
       "0 2006-02-15 05:03:42  \n",
       "1 2006-02-15 05:03:42  \n",
       "2 2006-02-15 05:03:42  \n",
       "3 2006-02-15 05:03:42  \n",
       "4 2006-02-15 05:03:42  "
      ]
     },
     "execution_count": 23,
     "metadata": {},
     "output_type": "execute_result"
    }
   ],
   "source": [
    "df2.head()"
   ]
  },
  {
   "cell_type": "code",
   "execution_count": 24,
   "id": "dcf6f143-8539-4d86-8a7c-bba1d5cee570",
   "metadata": {},
   "outputs": [],
   "source": [
    "df2['last_update']=pd.to_datetime(df2['last_update']).dt.strftime(\"%m/%d/%Y\")"
   ]
  },
  {
   "cell_type": "code",
   "execution_count": 25,
   "id": "eaee5c5e-444d-4476-ae86-96df550a27ea",
   "metadata": {},
   "outputs": [],
   "source": [
    "with pd.ExcelWriter(file,engine='openpyxl') as writer:\n",
    "    df.to_excel(writer,sheet_name='Query1',startrow=2,index=None,na_rep='n.a')\n",
    "    df2.to_excel(writer,sheet_name='Query1',startrow=2,startcol=6,index=None,na_rep='n.a')"
   ]
  },
  {
   "cell_type": "code",
   "execution_count": 26,
   "id": "8341d459-02aa-4152-91db-484bb7e39982",
   "metadata": {},
   "outputs": [],
   "source": [
    "col_list=[[0,1]]\n",
    "format_writing(file,'Query1','92CDDC',col_list,'92CDDC','Query1')"
   ]
  },
  {
   "cell_type": "markdown",
   "id": "2f33399d-6c06-4333-b548-211c905f58b3",
   "metadata": {
    "tags": []
   },
   "source": [
    "## Sheet 2:"
   ]
  },
  {
   "cell_type": "code",
   "execution_count": 27,
   "id": "a7fa84ef-217d-42c2-8df5-cfddb9e5acd5",
   "metadata": {},
   "outputs": [],
   "source": [
    "# Define your query\n",
    "query3 = \"SELECT * FROM {a}.{b};\".format(a=database_name,b=table_name3)"
   ]
  },
  {
   "cell_type": "code",
   "execution_count": 28,
   "id": "234aaea9-5e22-4331-9437-b68c0105a271",
   "metadata": {},
   "outputs": [
    {
     "name": "stdout",
     "output_type": "stream",
     "text": [
      "SELECT * FROM sakila.rental;\n"
     ]
    }
   ],
   "source": [
    "print(query3)"
   ]
  },
  {
   "cell_type": "code",
   "execution_count": 29,
   "id": "6043dd65-5ca9-4261-9986-6e207ba21a23",
   "metadata": {},
   "outputs": [],
   "source": [
    "cursor.execute(query3)"
   ]
  },
  {
   "cell_type": "code",
   "execution_count": 30,
   "id": "cf187c29-6e94-4764-ac88-c8d6119ca823",
   "metadata": {},
   "outputs": [],
   "source": [
    "res=cursor.fetchall()"
   ]
  },
  {
   "cell_type": "code",
   "execution_count": 31,
   "id": "ef230323-eda7-48ef-b7e8-eacd81f42692",
   "metadata": {},
   "outputs": [],
   "source": [
    "df3=pd.DataFrame(res,columns=[i[0] for i in cursor.description])"
   ]
  },
  {
   "cell_type": "code",
   "execution_count": 32,
   "id": "4c49bdbd-36cd-4467-8337-165245c3002f",
   "metadata": {},
   "outputs": [
    {
     "data": {
      "text/html": [
       "<div>\n",
       "<style scoped>\n",
       "    .dataframe tbody tr th:only-of-type {\n",
       "        vertical-align: middle;\n",
       "    }\n",
       "\n",
       "    .dataframe tbody tr th {\n",
       "        vertical-align: top;\n",
       "    }\n",
       "\n",
       "    .dataframe thead th {\n",
       "        text-align: right;\n",
       "    }\n",
       "</style>\n",
       "<table border=\"1\" class=\"dataframe\">\n",
       "  <thead>\n",
       "    <tr style=\"text-align: right;\">\n",
       "      <th></th>\n",
       "      <th>rental_id</th>\n",
       "      <th>rental_date</th>\n",
       "      <th>inventory_id</th>\n",
       "      <th>customer_id</th>\n",
       "      <th>return_date</th>\n",
       "      <th>staff_id</th>\n",
       "      <th>last_update</th>\n",
       "    </tr>\n",
       "  </thead>\n",
       "  <tbody>\n",
       "    <tr>\n",
       "      <th>0</th>\n",
       "      <td>1</td>\n",
       "      <td>2005-05-24 22:53:30</td>\n",
       "      <td>367</td>\n",
       "      <td>130</td>\n",
       "      <td>2005-05-26 22:04:30</td>\n",
       "      <td>1</td>\n",
       "      <td>2006-02-15 21:30:53</td>\n",
       "    </tr>\n",
       "    <tr>\n",
       "      <th>1</th>\n",
       "      <td>2</td>\n",
       "      <td>2005-05-24 22:54:33</td>\n",
       "      <td>1525</td>\n",
       "      <td>459</td>\n",
       "      <td>2005-05-28 19:40:33</td>\n",
       "      <td>1</td>\n",
       "      <td>2006-02-15 21:30:53</td>\n",
       "    </tr>\n",
       "    <tr>\n",
       "      <th>2</th>\n",
       "      <td>3</td>\n",
       "      <td>2005-05-24 23:03:39</td>\n",
       "      <td>1711</td>\n",
       "      <td>408</td>\n",
       "      <td>2005-06-01 22:12:39</td>\n",
       "      <td>1</td>\n",
       "      <td>2006-02-15 21:30:53</td>\n",
       "    </tr>\n",
       "    <tr>\n",
       "      <th>3</th>\n",
       "      <td>4</td>\n",
       "      <td>2005-05-24 23:04:41</td>\n",
       "      <td>2452</td>\n",
       "      <td>333</td>\n",
       "      <td>2005-06-03 01:43:41</td>\n",
       "      <td>2</td>\n",
       "      <td>2006-02-15 21:30:53</td>\n",
       "    </tr>\n",
       "    <tr>\n",
       "      <th>4</th>\n",
       "      <td>5</td>\n",
       "      <td>2005-05-24 23:05:21</td>\n",
       "      <td>2079</td>\n",
       "      <td>222</td>\n",
       "      <td>2005-06-02 04:33:21</td>\n",
       "      <td>1</td>\n",
       "      <td>2006-02-15 21:30:53</td>\n",
       "    </tr>\n",
       "  </tbody>\n",
       "</table>\n",
       "</div>"
      ],
      "text/plain": [
       "   rental_id         rental_date  inventory_id  customer_id  \\\n",
       "0          1 2005-05-24 22:53:30           367          130   \n",
       "1          2 2005-05-24 22:54:33          1525          459   \n",
       "2          3 2005-05-24 23:03:39          1711          408   \n",
       "3          4 2005-05-24 23:04:41          2452          333   \n",
       "4          5 2005-05-24 23:05:21          2079          222   \n",
       "\n",
       "          return_date  staff_id         last_update  \n",
       "0 2005-05-26 22:04:30         1 2006-02-15 21:30:53  \n",
       "1 2005-05-28 19:40:33         1 2006-02-15 21:30:53  \n",
       "2 2005-06-01 22:12:39         1 2006-02-15 21:30:53  \n",
       "3 2005-06-03 01:43:41         2 2006-02-15 21:30:53  \n",
       "4 2005-06-02 04:33:21         1 2006-02-15 21:30:53  "
      ]
     },
     "execution_count": 32,
     "metadata": {},
     "output_type": "execute_result"
    }
   ],
   "source": [
    "df3.head()"
   ]
  },
  {
   "cell_type": "code",
   "execution_count": 33,
   "id": "3f345cbc-5406-4cb5-ae78-a3e81a55ef8d",
   "metadata": {},
   "outputs": [],
   "source": [
    "df3['rental_date']=pd.to_datetime(df3['rental_date']).dt.strftime(\"%m/%d/%Y\")\n",
    "df3['last_update']=pd.to_datetime(df3['last_update']).dt.strftime(\"%m/%d/%Y\")"
   ]
  },
  {
   "cell_type": "code",
   "execution_count": 34,
   "id": "ac19eb3d-e463-4af6-a0db-2cbd20babade",
   "metadata": {},
   "outputs": [],
   "source": [
    "with pd.ExcelWriter(file,mode='a',engine='openpyxl') as writer:\n",
    "    df3.to_excel(writer,sheet_name='Query2',startrow=2,index=None,na_rep='n.a')"
   ]
  },
  {
   "cell_type": "code",
   "execution_count": 35,
   "id": "92e09f61-a11a-45ee-9ee5-15c69308e6f8",
   "metadata": {},
   "outputs": [],
   "source": [
    "col_list=[[0,1]]\n",
    "format_writing(file,'Query2','D8E4BC',col_list,'D8E4BC','Query2')"
   ]
  },
  {
   "cell_type": "markdown",
   "id": "2d039187-834c-4b31-8e2d-95a2759498ee",
   "metadata": {},
   "source": [
    "## Sheet 3:"
   ]
  },
  {
   "cell_type": "code",
   "execution_count": 36,
   "id": "a6c2b1f7-21dc-4caa-a2ec-70feb27f073c",
   "metadata": {},
   "outputs": [],
   "source": [
    "# Define your query\n",
    "query4 = \"SELECT film_id,title,rating FROM {a}.{b};\".format(a=database_name,b=table_name2)"
   ]
  },
  {
   "cell_type": "code",
   "execution_count": 37,
   "id": "542a5d2e-b239-4afe-b072-e072c71cdf5b",
   "metadata": {},
   "outputs": [
    {
     "name": "stdout",
     "output_type": "stream",
     "text": [
      "SELECT film_id,title,rating FROM sakila.film;\n"
     ]
    }
   ],
   "source": [
    "print(query4)"
   ]
  },
  {
   "cell_type": "code",
   "execution_count": 38,
   "id": "781c1e56-81fb-4c2f-872d-db649b55492e",
   "metadata": {},
   "outputs": [],
   "source": [
    "cursor.execute(query4)"
   ]
  },
  {
   "cell_type": "code",
   "execution_count": 39,
   "id": "cc81b997-6b5e-4950-8f51-6a5a11223035",
   "metadata": {},
   "outputs": [],
   "source": [
    "res=cursor.fetchall()"
   ]
  },
  {
   "cell_type": "code",
   "execution_count": 40,
   "id": "fbaebbc3-4918-4d41-9b8e-833d3bf69203",
   "metadata": {},
   "outputs": [],
   "source": [
    "df4=pd.DataFrame(res,columns=[i[0] for i in cursor.description])"
   ]
  },
  {
   "cell_type": "code",
   "execution_count": 41,
   "id": "e1d88cab-e288-49e5-843b-5f594aa35609",
   "metadata": {},
   "outputs": [
    {
     "data": {
      "text/html": [
       "<div>\n",
       "<style scoped>\n",
       "    .dataframe tbody tr th:only-of-type {\n",
       "        vertical-align: middle;\n",
       "    }\n",
       "\n",
       "    .dataframe tbody tr th {\n",
       "        vertical-align: top;\n",
       "    }\n",
       "\n",
       "    .dataframe thead th {\n",
       "        text-align: right;\n",
       "    }\n",
       "</style>\n",
       "<table border=\"1\" class=\"dataframe\">\n",
       "  <thead>\n",
       "    <tr style=\"text-align: right;\">\n",
       "      <th></th>\n",
       "      <th>film_id</th>\n",
       "      <th>title</th>\n",
       "      <th>rating</th>\n",
       "    </tr>\n",
       "  </thead>\n",
       "  <tbody>\n",
       "    <tr>\n",
       "      <th>0</th>\n",
       "      <td>1</td>\n",
       "      <td>ACADEMY DINOSAUR</td>\n",
       "      <td>PG</td>\n",
       "    </tr>\n",
       "    <tr>\n",
       "      <th>1</th>\n",
       "      <td>2</td>\n",
       "      <td>ACE GOLDFINGER</td>\n",
       "      <td>G</td>\n",
       "    </tr>\n",
       "    <tr>\n",
       "      <th>2</th>\n",
       "      <td>3</td>\n",
       "      <td>ADAPTATION HOLES</td>\n",
       "      <td>NC-17</td>\n",
       "    </tr>\n",
       "    <tr>\n",
       "      <th>3</th>\n",
       "      <td>4</td>\n",
       "      <td>AFFAIR PREJUDICE</td>\n",
       "      <td>G</td>\n",
       "    </tr>\n",
       "    <tr>\n",
       "      <th>4</th>\n",
       "      <td>5</td>\n",
       "      <td>AFRICAN EGG</td>\n",
       "      <td>G</td>\n",
       "    </tr>\n",
       "    <tr>\n",
       "      <th>...</th>\n",
       "      <td>...</td>\n",
       "      <td>...</td>\n",
       "      <td>...</td>\n",
       "    </tr>\n",
       "    <tr>\n",
       "      <th>995</th>\n",
       "      <td>996</td>\n",
       "      <td>YOUNG LANGUAGE</td>\n",
       "      <td>G</td>\n",
       "    </tr>\n",
       "    <tr>\n",
       "      <th>996</th>\n",
       "      <td>997</td>\n",
       "      <td>YOUTH KICK</td>\n",
       "      <td>NC-17</td>\n",
       "    </tr>\n",
       "    <tr>\n",
       "      <th>997</th>\n",
       "      <td>998</td>\n",
       "      <td>ZHIVAGO CORE</td>\n",
       "      <td>NC-17</td>\n",
       "    </tr>\n",
       "    <tr>\n",
       "      <th>998</th>\n",
       "      <td>999</td>\n",
       "      <td>ZOOLANDER FICTION</td>\n",
       "      <td>R</td>\n",
       "    </tr>\n",
       "    <tr>\n",
       "      <th>999</th>\n",
       "      <td>1000</td>\n",
       "      <td>ZORRO ARK</td>\n",
       "      <td>NC-17</td>\n",
       "    </tr>\n",
       "  </tbody>\n",
       "</table>\n",
       "<p>1000 rows × 3 columns</p>\n",
       "</div>"
      ],
      "text/plain": [
       "     film_id              title rating\n",
       "0          1   ACADEMY DINOSAUR     PG\n",
       "1          2     ACE GOLDFINGER      G\n",
       "2          3   ADAPTATION HOLES  NC-17\n",
       "3          4   AFFAIR PREJUDICE      G\n",
       "4          5        AFRICAN EGG      G\n",
       "..       ...                ...    ...\n",
       "995      996     YOUNG LANGUAGE      G\n",
       "996      997         YOUTH KICK  NC-17\n",
       "997      998       ZHIVAGO CORE  NC-17\n",
       "998      999  ZOOLANDER FICTION      R\n",
       "999     1000          ZORRO ARK  NC-17\n",
       "\n",
       "[1000 rows x 3 columns]"
      ]
     },
     "execution_count": 41,
     "metadata": {},
     "output_type": "execute_result"
    }
   ],
   "source": [
    "df4"
   ]
  },
  {
   "cell_type": "code",
   "execution_count": 42,
   "id": "707b0a24-fe48-447c-864c-4deec4b3e759",
   "metadata": {},
   "outputs": [],
   "source": [
    "with pd.ExcelWriter(file,mode='a',engine='openpyxl') as writer:\n",
    "    df4.to_excel(writer,sheet_name='Query3',startrow=2,index=None,na_rep='n.a')"
   ]
  },
  {
   "cell_type": "code",
   "execution_count": 43,
   "id": "9767fdea-15f1-4871-9bbd-60c05edc25c5",
   "metadata": {},
   "outputs": [],
   "source": [
    "col_list=[[0,1]]\n",
    "format_writing(file,'Query3','FFE699',col_list,'FFE699','Query3')"
   ]
  },
  {
   "cell_type": "markdown",
   "id": "9dff62c2-23b8-44b8-854a-d27ac1b54872",
   "metadata": {},
   "source": [
    "## Adding pivot tables and charts:"
   ]
  },
  {
   "cell_type": "code",
   "execution_count": 44,
   "id": "a58ff6af-ed22-4a59-8d28-6d176063f573",
   "metadata": {},
   "outputs": [],
   "source": [
    "%%capture\n",
    "!pip install aspose-cells-python==23.1.0"
   ]
  },
  {
   "cell_type": "code",
   "execution_count": 45,
   "id": "85210cec-3228-434f-a5f1-0c7141bede6c",
   "metadata": {},
   "outputs": [],
   "source": [
    "import aspose\n",
    "import aspose.cells as ac\n",
    "from aspose.cells import Workbook,Style,FileFormatType\n",
    "from aspose.cells.charts import ChartType,ChartMarkerType,FormattingType\n",
    "from aspose.cells.drawing import LineType,WeightType,GradientStyleType,FillFormat,GlowEffect\n",
    "from aspose.cells.pivot import PivotFieldType,PivotFilterType,PivotTableStyleType,PivotConditionFormatScopeType\n",
    "import aspose.pydrawing as ad"
   ]
  },
  {
   "cell_type": "markdown",
   "id": "98f043d1-bb9e-43cf-ada2-2f0ebe7a4b7f",
   "metadata": {},
   "source": [
    "## Query2:"
   ]
  },
  {
   "cell_type": "code",
   "execution_count": 46,
   "id": "bad7cb40-a00b-401d-b530-095d9e6efe63",
   "metadata": {},
   "outputs": [],
   "source": [
    "wb=Workbook(file)\n",
    "\n",
    "ws=wb.worksheets.get('Query2')\n",
    "\n",
    "a,b=len(df3)+3,len(df3.columns)\n",
    "\n",
    "pc=ws.pivot_tables\n",
    "\n",
    "pci=pc.add('A3:G{a}'.format(a=a),'J3',\"Timeseries\")\n",
    "                            \n",
    "np=pc[pci]\n",
    "                              \n",
    "np.row_grand=False\n",
    "                              \n",
    "np.add_field_to_area(aspose.cells.pivot.PivotFieldType.ROW,list(df3.columns).index('rental_date'))\n",
    "np.add_field_to_area(aspose.cells.pivot.PivotFieldType.DATA,list(df3.columns).index('inventory_id'))\n",
    "np.add_field_to_area(aspose.cells.pivot.PivotFieldType.COLUMN,np.data_field);\n",
    "                              \n",
    "p1=np.data_fields[0]\n",
    "p1.number_format='#,###'\n",
    "                \n",
    "p2=np.row_fields[0]\n",
    "p2.number_format='m/d/yyyy'\n",
    "                              \n",
    "np.show_in_tabular_form();\n",
    "np.is_auto_format=True;\n",
    "np.auto_format_type=22                              \n",
    "np.pivot_table_style_type=63\n",
    "                              \n",
    "idx=ws.slicers.add(np,'P20',np.base_fields[6])\n",
    "                              \n",
    "                              \n",
    "aspose.cells.charts.BackgroundMode=2\n",
    "ci=ws.charts.add(ChartType.LINE,2,12,18,28)\n",
    "ch=ws.charts[ci]\n",
    "ch.pivot_source=\"Query2!Timeseries\"                             \n",
    "ch.title.text='Timeseries'\n",
    "ch.title.font.name='Calibri (Body)'\n",
    "ch.title.font.color=aspose.cells.drawing.ColorHelper.from_ole_color(8355711)                              \n",
    "ch.category_axis.tick_labels.font.color=aspose.cells.drawing.ColorHelper.from_ole_color(8355711)                             \n",
    "ch.category_axis.tick_labels.font.name='Calibri (Body)'                                \n",
    "ch.category_axis.tick_labels.font.size=9                                \n",
    "ch.category_axis.tick_labels.rotation_angle=90                               \n",
    "ch.value_axis.tick_labels.font.color=aspose.cells.drawing.ColorHelper.from_ole_color(8355711)                              \n",
    "ch.value_axis.tick_labels.font.name='Calibri (Body)'                                \n",
    "ch.value_axis .tick_labels.font.size=9\n",
    "ch.legend.font.color==aspose.cells.drawing.ColorHelper.from_ole_color(8355711)                              \n",
    "ch.legend.font.name='Calibri (Body)'                              \n",
    "ch.title.set_position_auto()                              \n",
    "ch.plot_area.is_automatic_size=True                              \n",
    "                              \n",
    "                              \n",
    "wb.save(file)                                                            "
   ]
  },
  {
   "cell_type": "code",
   "execution_count": 47,
   "id": "0845d246-868b-4d9c-8add-145324b4c528",
   "metadata": {},
   "outputs": [],
   "source": [
    "ws=Workbook(file)\n",
    "\n",
    "ws=wb.worksheets.get('Query2')\n",
    "\n",
    "ch=ws.charts[0]\n",
    "ch.refresh_pivot_data()\n",
    "\n",
    "\n",
    "ch.chart_area.area.fill_format.fill_type=2\n",
    "ch.chart_area.area.fill_format.solid_fill.color=aspose.cells.drawing.ColorHelper.from_ole_color(16777215)\n",
    "ch.plot_area.area.fill_format.fill_type=2\n",
    "ch.plot_area.area.fill_format.solid_fill.color=aspose.cells.drawing.ColorHelper.from_ole_color(16777215)\n",
    "ch.plot_area.border.color=aspose.cells.drawing.ColorHelper.from_ole_color(16777215)\n",
    "\n",
    "ch.value_axis.major_grid_lines.formatting_type=1\n",
    "ch.value_axis.major_grid_lines.color=aspose.cells.drawing.ColorHelper.from_ole_color(14277081)\n",
    "ch.value_axis.major_tick_mark=2\n",
    "ch.value_axis.axis_line.color=aspose.cells.drawing.ColorHelper.from_ole_color(16777215)\n",
    "ch.category_axis.major_tick_mark=2   \n",
    "\n",
    "ch.n_series[0].area.fill_format.fill_type=2\n",
    "ch.n_series[0].area.fill_format.solid_fill.color=aspose.cells.drawing.ColorHelper.from_ole_color(12874308)\n",
    "ch.n_series[0].area.foreground_color=aspose.cells.drawing.ColorHelper.from_ole_color(12874308)\n",
    "ch.n_series[0].border.color=aspose.cells.drawing.ColorHelper.from_ole_color(12874308)\n",
    "ch.n_series[0].marker.marker_style=ChartMarkerType.AUTOMATIC\n",
    "ch.n_series[0].marker.marker_size_px=4\n",
    "ch.n_series[0].marker.area.transparency=0.0\n",
    "ch.n_series[0].marker.area.fill_format.fill_type=2\n",
    "ch.n_series[0].marker.area.fill_format.solid_fill.color=aspose.cells.drawing.ColorHelper.from_ole_color(12874308)\n",
    "ch.n_series[0].marker.border.color=aspose.cells.drawing.ColorHelper.from_ole_color(12874308)\n",
    "\n",
    "\n",
    "ch.value_axis.major_grid_lines.is_visible=False\n",
    "ch.category_axis.major_grid_lines.is_visible=False\n",
    "\n",
    "wb.save(file)"
   ]
  },
  {
   "cell_type": "markdown",
   "id": "0d5dbb56-dc43-44d8-994a-28427525f418",
   "metadata": {},
   "source": [
    "## Query3:"
   ]
  },
  {
   "cell_type": "code",
   "execution_count": 48,
   "id": "cbb5ce55-3546-4143-ad6e-8c9c57d69a5c",
   "metadata": {},
   "outputs": [],
   "source": [
    "wb=Workbook(file)\n",
    "\n",
    "ws=wb.worksheets.get('Query3')\n",
    "\n",
    "a,b=len(df4)+3,len(df4.columns)\n",
    "\n",
    "pc=ws.pivot_tables\n",
    "\n",
    "pci=pc.add('A3:C{a}'.format(a=a),'F3',\"pic1\")\n",
    "                            \n",
    "np=pc[pci]\n",
    "                              \n",
    "np.row_grand=False\n",
    "                              \n",
    "np.add_field_to_area(aspose.cells.pivot.PivotFieldType.ROW,list(df4.columns).index('rating'))\n",
    "np.add_field_to_area(aspose.cells.pivot.PivotFieldType.DATA,list(df4.columns).index('film_id'))\n",
    "np.add_field_to_area(aspose.cells.pivot.PivotFieldType.COLUMN,np.data_field);\n",
    "                              \n",
    "p1=np.data_fields[0]\n",
    "p1.number_format='#,###'\n",
    "                \n",
    "                              \n",
    "np.show_in_tabular_form();\n",
    "np.is_auto_format=True;\n",
    "np.auto_format_type=23                              \n",
    "np.pivot_table_style_type=67\n",
    "                                                            \n",
    "                              \n",
    "aspose.cells.charts.BackgroundMode=2\n",
    "ci=ws.charts.add(ChartType.COLUMN,2,8,18,22)\n",
    "ch=ws.charts[ci]\n",
    "ch.pivot_source=\"Query3!pic1\"                             \n",
    "ch.title.text='Movie Count by Rating'\n",
    "ch.title.font.name='Calibri (Body)'\n",
    "ch.title.font.color=ad.Color.white                             \n",
    "ch.category_axis.tick_labels.font.color=ad.Color.white                                \n",
    "ch.category_axis.tick_labels.font.name='Calibri (Body)'                                \n",
    "ch.category_axis.tick_labels.font.size=9                                \n",
    "ch.category_axis.tick_labels.rotation_angle=90                               \n",
    "ch.value_axis.tick_labels.font.color=ad.Color.white                                  \n",
    "ch.value_axis.tick_labels.font.name='Calibri (Body)'                                \n",
    "ch.value_axis .tick_labels.font.size=9\n",
    "ch.legend.font.color=ad.Color.white                                  \n",
    "ch.legend.font.name='Calibri (Body)'                              \n",
    "ch.title.set_position_auto()                              \n",
    "ch.plot_area.is_automatic_size=True                              \n",
    "                              \n",
    "                              \n",
    "wb.save(file)                                                            "
   ]
  },
  {
   "cell_type": "code",
   "execution_count": 49,
   "id": "7e20614d-5c86-4dfb-93e9-968ab5baec06",
   "metadata": {},
   "outputs": [],
   "source": [
    "ws=Workbook(file)\n",
    "\n",
    "ws=wb.worksheets.get('Query3')\n",
    "\n",
    "ch=ws.charts[0]\n",
    "ch.refresh_pivot_data()\n",
    "\n",
    "\n",
    "ch.chart_area.area.fill_format.fill_type=2\n",
    "ch.chart_area.area.fill_format.solid_fill.color=aspose.cells.drawing.ColorHelper.from_ole_color(4210752)\n",
    "ch.plot_area.area.fill_format.fill_type=2\n",
    "ch.plot_area.area.fill_format.solid_fill.color=aspose.cells.drawing.ColorHelper.from_ole_color(4210752)\n",
    "  \n",
    "\n",
    "ch.n_series[0].area.fill_format.fill_type=1\n",
    "ch.n_series[0].border.color=aspose.cells.drawing.ColorHelper.from_ole_color(15105318)\n",
    "\n",
    "\n",
    "cc=wb.create_cells_color()\n",
    "cc.color=aspose.cells.drawing.ColorHelper.from_ole_color(15105318)\n",
    "ch.n_series[0].shape_properties.glow_effect.color=cc\n",
    "ch.n_series[0].shape_properties.glow_effect.size=5\n",
    "ch.n_series[0].shape_properties.glow_effect.transparency=0.75\n",
    "ch.n_series[0].gap_width=315\n",
    "ch.n_series[0].overlap=-40\n",
    "\n",
    "ch.value_axis.major_grid_lines.is_visible=False\n",
    "ch.category_axis.major_grid_lines.is_visible=False\n",
    "\n",
    "wb.save(file)"
   ]
  },
  {
   "cell_type": "code",
   "execution_count": 50,
   "id": "c9b768d7-7ae0-449b-af9a-1fe4e2355e5b",
   "metadata": {},
   "outputs": [],
   "source": [
    "wb=Workbook(file)\n",
    "wb.worksheets.remove_at('Evaluation Warning')\n",
    "wb.worksheets.remove_at('Evaluation Warning (1)')\n",
    "wb.worksheets.remove_at('Evaluation Warning (2)')\n",
    "wb.worksheets.remove_at('Evaluation Warning (3)')\n",
    "wb.save(file)"
   ]
  },
  {
   "cell_type": "code",
   "execution_count": 51,
   "id": "d42e4ff1-1142-474c-bfcd-b73e498139e3",
   "metadata": {},
   "outputs": [],
   "source": [
    "endtime=datetime.datetime.now()\n",
    "diff=endtime-starttime"
   ]
  },
  {
   "cell_type": "code",
   "execution_count": 52,
   "id": "cb3fbb86-a9f3-4bf2-a64d-558ab738aa99",
   "metadata": {},
   "outputs": [
    {
     "name": "stdout",
     "output_type": "stream",
     "text": [
      "Total Time elapsed:  0.72\n"
     ]
    }
   ],
   "source": [
    "print(\"Total Time elapsed: \", round(diff.seconds/60,2))"
   ]
  }
 ],
 "metadata": {
  "kernelspec": {
   "display_name": "Python 3 (ipykernel)",
   "language": "python",
   "name": "python3"
  },
  "language_info": {
   "codemirror_mode": {
    "name": "ipython",
    "version": 3
   },
   "file_extension": ".py",
   "mimetype": "text/x-python",
   "name": "python",
   "nbconvert_exporter": "python",
   "pygments_lexer": "ipython3",
   "version": "3.9.12"
  }
 },
 "nbformat": 4,
 "nbformat_minor": 5
}
